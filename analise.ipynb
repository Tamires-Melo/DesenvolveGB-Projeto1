{
  "nbformat": 4,
  "nbformat_minor": 0,
  "metadata": {
    "colab": {
      "provenance": []
    },
    "kernelspec": {
      "name": "python3",
      "display_name": "Python 3"
    },
    "language_info": {
      "name": "python"
    }
  },
  "cells": [
    {
      "cell_type": "code",
      "execution_count": 2,
      "metadata": {
        "colab": {
          "base_uri": "https://localhost:8080/"
        },
        "id": "1gGJqbfHbtBG",
        "outputId": "96c39f1e-84a5-45db-e26b-31f961a396d2"
      },
      "outputs": [
        {
          "output_type": "stream",
          "name": "stdout",
          "text": [
            "    Nome  Idade          Cidade\n",
            "0    Ana     23  Belo Horizonte\n",
            "1   João     30       São Paulo\n",
            "2  Maria     27  Rio de Janeiro\n"
          ]
        }
      ],
      "source": [
        "import pandas as pd\n",
        "\n",
        "df = pd.read_csv(\"https://raw.githubusercontent.com/Tamires-Melo/DesenvolveGB-Projeto1/main/dados.csv\", encoding='latin1')\n",
        "print(df.head())"
      ]
    }
  ]
}